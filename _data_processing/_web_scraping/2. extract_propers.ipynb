{
 "cells": [
  {
   "cell_type": "markdown",
   "metadata": {},
   "source": [
    "# Parsing masses from Isilo and generating Structured files"
   ]
  },
  {
   "cell_type": "markdown",
   "metadata": {},
   "source": [
    "## Import Libraries\n",
    "This cell imports necessary libraries for the notebook. BeautifulSoup is used for parsing HTML content, ElementTree for working with XML data, and other libraries for handling regular expressions and file operations."
   ]
  },
  {
   "cell_type": "code",
   "execution_count": 2,
   "metadata": {},
   "outputs": [],
   "source": [
    "from bs4 import BeautifulSoup\n",
    "import xml.etree.ElementTree as ET\n",
    "import xml.dom.minidom\n",
    "import re\n",
    "import os\n",
    "import json\n",
    "from collections import defaultdict"
   ]
  },
  {
   "cell_type": "markdown",
   "metadata": {},
   "source": [
    "### Using recursive default dicts to have more flexibility"
   ]
  },
  {
   "cell_type": "code",
   "execution_count": 3,
   "metadata": {},
   "outputs": [],
   "source": [
    "def recursive_defaultdict():\n",
    "    return defaultdict(recursive_defaultdict)\n",
    "\n",
    "def defaultdict_to_dict(d):\n",
    "    if isinstance(d, defaultdict):\n",
    "        # Convert the defaultdict itself to a dict\n",
    "        d = dict(d)\n",
    "        # Recursively apply this conversion\n",
    "        for key, value in d.items():\n",
    "            d[key] = defaultdict_to_dict(value)\n",
    "    return d"
   ]
  },
  {
   "cell_type": "markdown",
   "metadata": {},
   "source": [
    "## Helper functions"
   ]
  },
  {
   "cell_type": "markdown",
   "metadata": {},
   "source": [
    "### Function: extract_sections\n",
    "This function reads an HTML file and extracts different sections of the text based on specific HTML tags. It uses BeautifulSoup for parsing HTML and organizes the sections into a dictionary. This is helpful for further processing and analysis of the text."
   ]
  },
  {
   "cell_type": "code",
   "execution_count": 4,
   "metadata": {},
   "outputs": [],
   "source": [
    "def extract_sections(file_path):\n",
    "    with open(file_path, 'r', encoding='utf-8') as file:\n",
    "        soup = BeautifulSoup(file, 'html.parser')\n",
    "\n",
    "    was_h3 = False\n",
    "    current_mass = ''\n",
    "\n",
    "    masses_raw_text = {}\n",
    "    for element in soup.body.find_all():\n",
    "        if element.get_text() == '\\xa0':\n",
    "            continue\n",
    "        \n",
    "        if element.name == 'h3':\n",
    "            if was_h3 == False:\n",
    "                current_mass = ''\n",
    "            was_h3 = True\n",
    "            current_mass += ' ' + element.get_text()\n",
    "        elif element.name == 'p':\n",
    "            if was_h3 == True:\n",
    "                current_mass = current_mass.strip().replace('\\n', ' ')\n",
    "                masses_raw_text[current_mass] = []\n",
    "            if current_mass != '':\n",
    "                masses_raw_text[current_mass].append(element.get_text())\n",
    "            was_h3 = False\n",
    "\n",
    "    return masses_raw_text"
   ]
  },
  {
   "cell_type": "markdown",
   "metadata": {},
   "source": [
    "### Function: get_mass_by_sections\n",
    "This function processes the raw text of masses, segregating them into different sections based on predefined criteria. It's used for organizing the text data for further processing, making it easier to work with."
   ]
  },
  {
   "cell_type": "code",
   "execution_count": 5,
   "metadata": {},
   "outputs": [],
   "source": [
    "def get_mass_by_sections(mass_raw_text, sections):\n",
    "    mass_by_section = {}\n",
    "    current_section = ''\n",
    "    for text in mass_raw_text:\n",
    "        text = text.replace('\\n', ' ')\n",
    "        is_section_title = False\n",
    "        for section in sections:\n",
    "            if section in text:\n",
    "                is_section_title = True\n",
    "                current_section = text\n",
    "                mass_by_section[current_section] = []\n",
    "        if not is_section_title and current_section != '':\n",
    "            mass_by_section[current_section].append(text)\n",
    "    \n",
    "    return mass_by_section"
   ]
  },
  {
   "cell_type": "markdown",
   "metadata": {},
   "source": [
    "### Possible sections to be found inside the raw data"
   ]
  },
  {
   "cell_type": "code",
   "execution_count": 6,
   "metadata": {},
   "outputs": [],
   "source": [
    "possible_sections = [\n",
    "    \"ANTÍFONA DE ENTRADA\",\n",
    "    \"ORAÇÃO COLECTA\",\n",
    "    \"ORAÇÃO SOBRE AS OBLATAS\",\n",
    "    \"ANTÍFONA DA COMUNHÃO\",\n",
    "    \"ORAÇÃO DEPOIS DA COMUNHÃO\",\n",
    "    \"LEITURA I \",\n",
    "    \"SALMO RESPONSORIAL\",\n",
    "    \"ALELUIA\",\n",
    "    \"LEITURA II\",\n",
    "    \"EVANGELHO\"\n",
    "]"
   ]
  },
  {
   "cell_type": "markdown",
   "metadata": {},
   "source": [
    "## Scripts for Parsing Files to JSON"
   ]
  },
  {
   "cell_type": "markdown",
   "metadata": {},
   "source": [
    "### Creating advent dictionary"
   ]
  },
  {
   "cell_type": "code",
   "execution_count": 7,
   "metadata": {},
   "outputs": [],
   "source": [
    "advent_propers = defaultdict(recursive_defaultdict)"
   ]
  },
  {
   "cell_type": "markdown",
   "metadata": {},
   "source": [
    "### Weeks 1-3"
   ]
  },
  {
   "cell_type": "code",
   "execution_count": 8,
   "metadata": {},
   "outputs": [],
   "source": [
    "def create_json_mass_propers(propers_idxs, mass_by_section):\n",
    "\n",
    "    propers = {}\n",
    "\n",
    "    sections = list(mass_by_section.keys())\n",
    "    \n",
    "    propers_present = []\n",
    "    for idx in propers_idxs:\n",
    "        data_from_title = sections[idx].split(' - ')\n",
    "        name = data_from_title[0].title()\n",
    "        reference = \" - \".join(data_from_title[1:])\n",
    "        \n",
    "        if reference == \"\":\n",
    "            reference = None\n",
    "\n",
    "        section_content = mass_by_section[sections[idx]]\n",
    "        proper_data = {}\n",
    "        proper_type = None\n",
    "\n",
    "        if 'Entrada' in name:\n",
    "            proper_type = 'entrance'\n",
    "        \n",
    "        if 'Colecta' in name:\n",
    "            proper_type = 'collect'\n",
    "        \n",
    "        if 'Oblatas' in name:\n",
    "            proper_type = 'offerings'\n",
    "\n",
    "        if 'Antífona' in name and 'Comunhão' in name:\n",
    "            proper_type = 'communion'\n",
    "\n",
    "        if 'Depois' in name:\n",
    "            proper_type = 'post-communion'\n",
    "\n",
    "        proper_data['reference'] = reference\n",
    "        proper_data['text'] = section_content[0]\n",
    "        \n",
    "        if proper_type != None:\n",
    "            propers[proper_type] = proper_data\n",
    "        else:\n",
    "            print(\"Proper type not recognized\")\n",
    "\n",
    "    return propers"
   ]
  },
  {
   "cell_type": "code",
   "execution_count": 9,
   "metadata": {},
   "outputs": [],
   "source": [
    "file_paths = [\n",
    "    \"../_old/AdvSem01.htm\",\n",
    "    \"../_old/AdvSem02.htm\",\n",
    "    \"../_old/AdvSem03.htm\",\n",
    "]\n",
    "\n",
    "weekdays = [\"1\", \"1\",\"1\",\"1\", \"2\", \"3\", \"4\", \"5\", \"6\", \"7\"]\n",
    "cycles = [\"A\", \"B\", \"C\"]\n",
    "\n",
    "for i, file_path in enumerate(file_paths):\n",
    "    masses_raw_text = extract_sections(file_path)\n",
    "    for i, key in enumerate(list(masses_raw_text.keys())[0:]):\n",
    "        if i in [1, 2, 3]:\n",
    "            continue\n",
    "        mass_by_section = get_mass_by_sections(masses_raw_text[key], possible_sections)\n",
    "        sections = list(mass_by_section.keys())\n",
    "\n",
    "        keywords = [\"EVANGELHO\", \"LEITURA\", \"ALELUIA\", \"SALMO\"]\n",
    "        propers_idxs = [i for i, element in enumerate(sections) if not any(word in element for word in keywords)]\n",
    "\n",
    "        propers = create_json_mass_propers(propers_idxs, mass_by_section)\n",
    "\n",
    "        advent_propers[f'week-{file_path[-6:-4]}'][weekdays[i]] = propers"
   ]
  },
  {
   "cell_type": "markdown",
   "metadata": {},
   "source": [
    "### Week 4 (Sundays)"
   ]
  },
  {
   "cell_type": "code",
   "execution_count": 10,
   "metadata": {},
   "outputs": [
    {
     "name": "stdout",
     "output_type": "stream",
     "text": [
      "{'entrance': {'reference': 'Is 45, 8', 'text': 'Desça o orvalho do alto dos Céus e as nuvens chovam o Justo. Abra-se a terra e germine o Salvador.'}, 'collect': {'reference': None, 'text': 'Infundi, Senhor, a vossa graça em nossas almas, para que nós, que pela anunciação do Anjo conhecemos a encarnação de Cristo, vosso Filho, pela sua paixão e morte na cruz alcancemos a glória da ressurreição. Por Nosso Senhor Jesus Cristo, vosso Filho, que é Deus convosco na unidade do Espírito Santo.'}, 'offerings': {'reference': None, 'text': 'Aceitai, Senhor, os dons que trazemos ao vosso altar e santificai-os com o mesmo Espírito que, pelo poder da sua graça, fecundou o seio da Virgem Santa Maria. Por Nosso Senhor Jesus Cristo, vosso Filho, que é Deus convosco na unidade do Espírito Santo.'}, 'communion': {'reference': 'cf. Is 7, 14', 'text': 'A Virgem conceberá e dará à luz um filho. O seu nome será Emanuel, Deus-connosco.'}, 'post-communion': {'reference': None, 'text': 'Tendo recebido neste sacramento o penhor da redenção eterna, nós Vos pedimos, Senhor: quanto mais se aproxima a festa da nossa salvação, tanto mais cresça em nós o fervor para celebrarmos dignamente o mistério do Natal do vosso Filho. Ele que é Deus convosco na unidade do Espírito Santo.'}}\n"
     ]
    }
   ],
   "source": [
    "season = \"advent\"\n",
    "\n",
    "file_paths = [\n",
    "    \"../_old/AdvSem04.htm\",\n",
    "]\n",
    "\n",
    "for i, file_path in enumerate(file_paths):\n",
    "    masses_raw_text = extract_sections(file_path)\n",
    "    for i, key in enumerate(list(masses_raw_text.keys())[:1]):\n",
    "        if i in [1, 2, 3]:\n",
    "            continue\n",
    "        mass_by_section = get_mass_by_sections(masses_raw_text[key], possible_sections)\n",
    "        sections = list(mass_by_section.keys())\n",
    "\n",
    "        keywords = [\"EVANGELHO\", \"LEITURA\", \"ALELUIA\", \"SALMO\"]\n",
    "        propers_idxs = [i for i, element in enumerate(sections) if not any(word in element for word in keywords)]\n",
    "\n",
    "        propers = create_json_mass_propers(propers_idxs, mass_by_section)\n",
    "        print(propers)\n",
    "\n",
    "        advent_propers[f'week-{file_path[-6:-4]}'][weekdays[i]] = propers"
   ]
  },
  {
   "cell_type": "markdown",
   "metadata": {},
   "source": [
    "### Week 4 (Specific days)"
   ]
  },
  {
   "cell_type": "code",
   "execution_count": 11,
   "metadata": {},
   "outputs": [
    {
     "name": "stdout",
     "output_type": "stream",
     "text": [
      "{'entrance': {'reference': 'cf. Is 49, 13', 'text': 'Alegrem-se os Céus, exulte a terra: o Senhor visitará o seu povo.'}, 'collect': {'reference': None, 'text': 'Deus, criador e redentor do género humano, que no seio da bem-aventurada Virgem Maria quisestes realizar o grande mistério da encarnação do Verbo, ouvi a nossa oração e concedei que o vosso Filho Unigénito, feito homem como nós, nos torne participantes da sua vida divina. Ele que é Deus convosco na unidade do Espírito Santo.'}, 'offerings': {'reference': None, 'text': 'Santificai, Senhor, os dons da vossa Igreja e pela celebração destes sagrados mistérios dai-nos como alimento o pão do Céu. Por Nosso Senhor Jesus Cristo, vosso Filho, que é Deus convosco na unidade do Espírito Santo.'}, 'communion': {'reference': 'cf. Ageu 2, 8', 'text': 'Eis que vem o desejado de todos os povos e encherá de glória o templo do Senhor.'}, 'post-communion': {'reference': None, 'text': 'Deus omnipotente, que nos alimentais com o pão da vida, concedei-nos que, inflamados pelo fogo do vosso Espírito, brilhemos como lâmpadas resplandecentes quando vier o Senhor. Ele que é Deus convosco na unidade do Espírito Santo.'}}\n",
      "{'entrance': {'reference': None, 'text': 'Eis que vem Jesus Cristo, nosso Rei, o Cordeiro anunciado por João Baptista.'}, 'collect': {'reference': None, 'text': 'Concedei-nos, Deus omnipotente, que o esperado nascimento do vosso Filho Unigénito nos liberte da antiga escravidão do pecado. Por Nosso Senhor Jesus Cristo, vosso Filho, que é Deus convosco na unidade do Espírito Santo.'}, 'offerings': {'reference': None, 'text': 'Por este sacrifício que celebramos, Senhor, tornai-nos dignos de estar na vossa presença, para podermos participar na vida eterna do vosso Filho, que nos libertou da morte, assumindo a nossa condição mortal. Ele que é Deus convosco na unidade do Espírito Santo.'}, 'communion': {'reference': 'Mt 1, 23', 'text': 'O seu nome será Emanuel, Deus-connosco.'}, 'post-communion': {'reference': None, 'text': 'Ajudai-nos, Senhor, a receber a vossa misericórdia no templo vivo da vossa Igreja e a preparar dignamente as próximas solenidades da nossa redenção. Por Nosso Senhor Jesus Cristo, vosso Filho, que é Deus convosco na unidade do Espírito Santo.'}}\n",
      "{'entrance': {'reference': 'cf. Hebr 10, 37', 'text': 'Aquele que há-de vir não tardará. Nunca mais haverá temor na nossa terra, porque Ele é o Salvador do mundo.'}, 'collect': {'reference': None, 'text': 'Senhor nosso Deus, que revelastes ao mundo o esplendor da vossa glória pelo nascimento do Filho da Virgem Maria, concedei-nos a graça de celebrar o grande mistério da encarnação com verdadeira fé e sincera piedade. Por Nosso Senhor Jesus Cristo, vosso Filho, que é Deus convosco na unidade do Espírito Santo.'}, 'offerings': {'reference': None, 'text': 'Olhai benignamente, Senhor, para os dons que trazemos ao vosso altar: santificai a oferta da nossa pobreza com o poder do vosso Espírito. Por Nosso Senhor Jesus Cristo, vosso Filho, que é Deus convosco na unidade do Espírito Santo.'}, 'communion': {'reference': 'Lc 1, 78-79', 'text': 'O Senhor nos visitará como sol nascente, para dirigir os nossos passos no caminho da paz.'}, 'post-communion': {'reference': None, 'text': 'Nós Vos damos graças, Deus omnipotente, pelos dons que recebemos e Vos pedimos que acendais em nós a esperança dos bens prometidos, para que possamos celebrar, com espírito renovado, o nascimento do nosso Salvador, Jesus Cristo, que é Deus convosco na unidade do Espírito Santo.'}}\n",
      "{'entrance': {'reference': 'cf. Is 11, 1; 40, 5; Lc 3, 6', 'text': 'Florescerá um ramo da raiz de Jessé: a glória do Senhor encherá a terra inteira e todo o homem verá a salvação de Deus.'}, 'collect': {'reference': None, 'text': 'Senhor nosso Deus, que pela anunciação do Anjo quisestes que a Virgem Imaculada se tornasse Mãe do vosso Verbo e, envolvida na luz do Espírito Santo, fosse consagrada templo da divindade, ajudai-nos a ser humildes como ela, para cumprirmos fielmente a vossa vontade. Por Nosso Senhor Jesus Cristo, vosso Filho, que é Deus convosco na unidade do Espírito Santo.'}, 'offerings': {'reference': None, 'text': 'Olhai benignamente, Senhor, para este admirável sacramento, pelo qual se renova entre nós o único sacrifício de Cristo, e concedei que, pela participação nestes santos mistérios, recebamos na fé os bens que esperamos. Por Nosso Senhor Jesus Cristo, vosso Filho, que é Deus convosco na unidade do Espírito Santo.'}, 'communion': {'reference': 'cf. Lc 1, 31', 'text': 'O Anjo do Senhor disse a Maria: Conceberás e darás à luz um Filho e o seu nome será Jesus.'}, 'post-communion': {'reference': None, 'text': 'Defendei, Senhor, com a vossa protecção aqueles que alimentais com o pão do Céu, de modo que, ao saborearem os vossos sacramentos, encontrem a alegria da verdadeira paz. Por Nosso Senhor Jesus Cristo, vosso Filho, que é Deus convosco na unidade do Espírito Santo.'}}\n",
      "{'entrance': {'reference': 'cf. Is 7, 14; 8, l0', 'text': 'Eis que vem o Senhor omnipotente: o seu nome será Emanuel, Deus-connosco.'}, 'collect': {'reference': None, 'text': 'Atendei, Senhor, a oração do vosso povo, que se alegra com a vinda do vosso Filho na humildade da nossa carne, e concedei-nos o dom da vida eterna quando Ele vier na sua glória. Por Nosso Senhor Jesus Cristo, vosso Filho, que é Deus convosco na unidade do Espírito Santo.'}, 'offerings': {'reference': None, 'text': 'Aceitai benignamente, Senhor, os dons que Vós mesmo concedestes à vossa Igreja e transformai-os com o vosso poder, em sacramento da nossa salvação. Por Nosso Senhor Jesus Cristo, vosso Filho, que é Deus convosco na unidade do Espírito Santo.'}, 'communion': {'reference': 'cf. Lc 1, 45', 'text': 'Bendita sejais, ó Virgem Maria, que acreditastes na palavra do Senhor.'}, 'post-communion': {'reference': None, 'text': 'Pela participação neste divino sacramento, protegei sempre o vosso povo, Senhor, para que, consagrando-se inteiramente ao vosso serviço, alcance a salvação da alma e do corpo. Por Nosso Senhor Jesus Cristo, vosso Filho, que é Deus convosco na unidade do Espírito Santo.'}}\n",
      "{'entrance': {'reference': 'Salmo 23, 7', 'text': 'Levantai, ó portas, os vossos umbrais, alteai-vos, pórticos antigos, e entrará o Rei da glória.'}, 'collect': {'reference': None, 'text': 'Senhor, que, vendo o homem sujeito ao poder da morte, o quisestes resgatar com a vinda do vosso Filho Unigénito, concedei que, celebrando com sincera humildade o mistério da sua encarnação, mereçamos alcançar os frutos da sua redenção gloriosa. Ele que é Deus convosco na unidade do Espírito Santo.'}, 'offerings': {'reference': None, 'text': 'Confiando na vossa bondade, Senhor, trazemos ao altar os nossos dons, para que estes mistérios que celebramos nos purifiquem de todo o pecado. Por Nosso Senhor Jesus Cristo, vosso Filho, que é Deus convosco na unidade do Espírito Santo.'}, 'communion': {'reference': 'Lc 1, 46.49', 'text': 'A minha alma glorifica o Senhor: O Todo-Poderoso fez em mim maravilhas.'}, 'post-communion': {'reference': None, 'text': 'A comunhão do sacramento que recebemos, Senhor, nos fortifique na prática das boas obras, para podermos ir ao encontro do Salvador e alcançarmos o prémio da vida eterna. Por Nosso Senhor Jesus Cristo, vosso Filho, que é Deus convosco na unidade do Espírito Santo.'}}\n",
      "{'entrance': {'reference': None, 'text': 'Um Menino vai nascer para nós e será chamado Deus Forte. N’Ele serão abençoados todos os povos da terra.'}, 'collect': {'reference': None, 'text': 'Deus eterno e ominipotente: ao aproximar-se o nascimento do vosso Filho em nossa carne mortal, fazei-nos sentir a abundância da vossa misericórdia, que O fez encarnar no seio da Virgem Santa Maria e habitar entre nós. Ele que é Deus convosco na unidade do Espírito Santo.'}, 'offerings': {'reference': None, 'text': 'Por este santo sacrifício, em que se instituiu entre os homens a plenitude do culto divino, fazei, Senhor, que alcancemos a perfeita reconciliação convosco, para celebrarmos com espírito renovado o nascimento do nosso Redentor. Ele que é Deus convosco na unidade do Espírito Santo.'}, 'communion': {'reference': None, 'text': 'Eu estou à porta e chamo, diz o Senhor. Se alguém ouvir a minha voz e Me abrir a porta, entrarei em sua casa, cearei com ele e ele comigo.'}, 'post-communion': {'reference': None, 'text': 'Dai a paz, Senhor, àqueles que alimentastes com este dom celeste, para que, de lâmpadas acesas, esperemos a vinda de Jesus Cristo, Vosso Filho, que é Deus convosco na unidade do Espírito Santo.'}}\n",
      "{'entrance': {'reference': 'cf. Gal 4, 4', 'text': 'Chegou a plenitude dos tempos: Deus enviou o seu Filho ao mundo.'}, 'collect': {'reference': None, 'text': 'Apressai-Vos, Senhor Jesus, e não tardeis: dai conforto e esperança àqueles que acreditam no vosso amor. Vós que sois Deus com o Pai na unidade do Espírito Santo.'}, 'offerings': {'reference': None, 'text': 'Aceitai benignamente, Senhor, os dons que Vos apresentamos, para que a participação nestes mistérios nos purifique de todo o pecado e prepare os nossos corações para a vinda gloriosa do vosso Filho, que é Deus convosco na unidade do Espírito Santo.'}, 'communion': {'reference': 'Lc 1, 68', 'text': 'Bendito o Senhor Deus de Israel, que visitou e redimiu o seu povo.'}, 'post-communion': {'reference': None, 'text': 'Renovados por este admirável sacramento, nós Vos pedimos, Senhor: assim como nos preparamos para celebrar o santo nascimento do vosso Filho, possamos também receber com alegria o dom da sua vida imortal. Por Nosso Senhor Jesus Cristo, vosso Filho, que é Deus convosco na unidade do Espírito Santo.'}}\n"
     ]
    }
   ],
   "source": [
    "season = \"advent\"\n",
    "month = \"december\"\n",
    "\n",
    "file_paths = [\n",
    "    \"../_old/AdvSem04.htm\",\n",
    "]\n",
    "\n",
    "days = [str(i) for i in range(17, 25)]\n",
    "\n",
    "for i, file_path in enumerate(file_paths):\n",
    "    masses_raw_text = extract_sections(file_path)\n",
    "    for i, key in enumerate(list(masses_raw_text.keys())[4:]):\n",
    "        mass_by_section = get_mass_by_sections(masses_raw_text[key], possible_sections)\n",
    "        sections = list(mass_by_section.keys())\n",
    "\n",
    "        keywords = [\"EVANGELHO\", \"LEITURA\", \"ALELUIA\", \"SALMO\"]\n",
    "        propers_idxs = [i for i, element in enumerate(sections) if not any(word in element for word in keywords)]\n",
    "\n",
    "        propers = create_json_mass_propers(propers_idxs, mass_by_section)\n",
    "        print(propers)\n",
    "\n",
    "        advent_propers[\"december\"][days[i]] = propers"
   ]
  },
  {
   "cell_type": "code",
   "execution_count": 12,
   "metadata": {},
   "outputs": [],
   "source": [
    "file_path = '../_new/pt/advent.json'\n",
    "\n",
    "# Open the file and load its content as a Python dictionary\n",
    "with open(file_path, 'r', encoding='utf-8') as file:\n",
    "    advent_readings = json.load(file)['readings']"
   ]
  },
  {
   "cell_type": "code",
   "execution_count": 13,
   "metadata": {},
   "outputs": [],
   "source": [
    "advent_readings = defaultdict_to_dict(advent_readings)\n",
    "advent = {\n",
    "    'propers': advent_propers,\n",
    "    'readings': advent_readings\n",
    "}\n",
    "\n",
    "output_file_path = f\"../_new/pt/advent.json\"\n",
    "\n",
    "with open(output_file_path, 'w', encoding='utf-8') as file:\n",
    "    json.dump(advent, file, ensure_ascii=False, indent=4)"
   ]
  }
 ],
 "metadata": {
  "kernelspec": {
   "display_name": "Python 3",
   "language": "python",
   "name": "python3"
  },
  "language_info": {
   "codemirror_mode": {
    "name": "ipython",
    "version": 3
   },
   "file_extension": ".py",
   "mimetype": "text/x-python",
   "name": "python",
   "nbconvert_exporter": "python",
   "pygments_lexer": "ipython3",
   "version": "3.8.10"
  }
 },
 "nbformat": 4,
 "nbformat_minor": 2
}
