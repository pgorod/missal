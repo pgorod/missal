{
 "cells": [
  {
   "cell_type": "markdown",
   "metadata": {},
   "source": [
    "# Parsing masses from Isilo and generating XML"
   ]
  },
  {
   "cell_type": "markdown",
   "metadata": {},
   "source": [
    "## Import Libraries\n",
    "This cell imports necessary libraries for the notebook. BeautifulSoup is used for parsing HTML content, ElementTree for working with XML data, and other libraries for handling regular expressions and file operations."
   ]
  },
  {
   "cell_type": "code",
   "execution_count": 54,
   "metadata": {},
   "outputs": [],
   "source": [
    "from bs4 import BeautifulSoup\n",
    "import xml.etree.ElementTree as ET\n",
    "import xml.dom.minidom\n",
    "import re\n",
    "import os"
   ]
  },
  {
   "cell_type": "markdown",
   "metadata": {},
   "source": [
    "## Helper functions"
   ]
  },
  {
   "cell_type": "markdown",
   "metadata": {},
   "source": [
    "### Function: extract_sections\n",
    "This function reads an HTML file and extracts different sections of the text based on specific HTML tags. It uses BeautifulSoup for parsing HTML and organizes the sections into a dictionary. This is helpful for further processing and analysis of the text."
   ]
  },
  {
   "cell_type": "code",
   "execution_count": 55,
   "metadata": {},
   "outputs": [],
   "source": [
    "def extract_sections(file_path):\n",
    "    with open(file_path, 'r', encoding='utf-8') as file:\n",
    "        soup = BeautifulSoup(file, 'html.parser')\n",
    "\n",
    "    was_h3 = False\n",
    "    current_mass = ''\n",
    "\n",
    "    masses_raw_text = {}\n",
    "    for element in soup.body.find_all():\n",
    "        if element.get_text() == '\\xa0':\n",
    "            continue\n",
    "        \n",
    "        if element.name == 'h3':\n",
    "            if was_h3 == False:\n",
    "                current_mass = ''\n",
    "            was_h3 = True\n",
    "            current_mass += ' ' + element.get_text()\n",
    "        elif element.name == 'p':\n",
    "            if was_h3 == True:\n",
    "                current_mass = current_mass.strip().replace('\\n', ' ')\n",
    "                masses_raw_text[current_mass] = []\n",
    "            if current_mass != '':\n",
    "                masses_raw_text[current_mass].append(element.get_text())\n",
    "            was_h3 = False\n",
    "\n",
    "    return masses_raw_text"
   ]
  },
  {
   "cell_type": "markdown",
   "metadata": {},
   "source": [
    "### Function: get_mass_by_sections\n",
    "This function processes the raw text of masses, segregating them into different sections based on predefined criteria. It's used for organizing the text data for further processing, making it easier to work with."
   ]
  },
  {
   "cell_type": "code",
   "execution_count": 56,
   "metadata": {},
   "outputs": [],
   "source": [
    "def get_mass_by_sections(mass_raw_text, sections):\n",
    "    mass_by_section = {}\n",
    "    current_section = ''\n",
    "    for text in mass_raw_text:\n",
    "        text = text.replace('\\n', ' ')\n",
    "        is_section_title = False\n",
    "        for section in sections:\n",
    "            if section in text:\n",
    "                is_section_title = True\n",
    "                current_section = text\n",
    "                mass_by_section[current_section] = []\n",
    "        if not is_section_title and current_section != '':\n",
    "            mass_by_section[current_section].append(text)\n",
    "    \n",
    "    return mass_by_section"
   ]
  },
  {
   "cell_type": "markdown",
   "metadata": {},
   "source": [
    "### Function: create_xml_mass_readings\n",
    "This function is responsible for converting organized mass readings into an XML format. It creates XML elements from the given metadata, reading indexes, and mass sections, facilitating the structured representation of data."
   ]
  },
  {
   "cell_type": "code",
   "execution_count": 57,
   "metadata": {},
   "outputs": [],
   "source": [
    "def create_xml_mass_readings(mass_metadata, reading_idxs, mass_by_section, filename):\n",
    "    root = ET.Element(\"xml\")\n",
    "    mass = ET.SubElement(root, \"mass\", mass_metadata)\n",
    "\n",
    "    sections = list(mass_by_section.keys())\n",
    "    for i, idx in enumerate(reading_idxs):\n",
    "        \n",
    "        data_from_title = sections[idx].split(' - ')\n",
    "        name = data_from_title[0].title()\n",
    "        if name.split(\" \")[0] == \"Leitura\":\n",
    "            name = name.split(\" \")[0].title() + ' ' + name.split(\" \")[1].upper()\n",
    "        reference = \" - \".join(data_from_title[1:])\n",
    "        \n",
    "        if reference == \"\":\n",
    "            reference = None\n",
    "        \n",
    "        section_content = mass_by_section[sections[idx]]\n",
    "\n",
    "        reading = ET.SubElement(mass, f\"reading-{i+1}\")\n",
    "        ET.SubElement(reading, \"name\").text = name\n",
    "        ET.SubElement(reading, \"reference\").text = reference\n",
    "\n",
    "        if 'Leitura' in name:\n",
    "            snippet         = section_content[0]\n",
    "            announcement    = section_content[1]\n",
    "            text            = section_content[2]\n",
    "            text = re.sub(r\"(Palavra da salvação\\.|Palavra do Senhor\\.)$\", \"\", text)\n",
    "            ET.SubElement(reading, \"snippet\").text = snippet\n",
    "            ET.SubElement(reading, \"announcement\").text = announcement\n",
    "            ET.SubElement(reading, \"text\").text = text\n",
    "            ET.SubElement(reading, \"endind\").text = \"Palavra do Senhor.\"\n",
    "        \n",
    "        if 'Evangelho' in name:\n",
    "            snippet         = section_content[0]\n",
    "            announcement    = section_content[1]\n",
    "            text            = section_content[2]\n",
    "            text = re.sub(r\"(Palavra da salvação\\.|Palavra do Senhor\\.)$\", \"\", text)\n",
    "            ET.SubElement(reading, \"snippet\").text = snippet\n",
    "            ET.SubElement(reading, \"announcement\").text = announcement\n",
    "            ET.SubElement(reading, \"text\").text = text\n",
    "            ET.SubElement(reading, \"endind\").text = \"Palavra da salvação.\"\n",
    "\n",
    "        if 'Aleluia' in name:\n",
    "            response        = section_content[0].split(': ')[-1]\n",
    "            text            = section_content[1]\n",
    "            ET.SubElement(reading, \"response\").text = response\n",
    "            ET.SubElement(reading, \"text\").text = text\n",
    "\n",
    "        if 'Salmo' in name:\n",
    "            response_idx = 0\n",
    "            if section_content[0][0] == '(':\n",
    "                ET.SubElement(reading, \"notice\").text = section_content[0]\n",
    "                response_idx = 1\n",
    "            response = section_content[response_idx].split(': ')[-1]\n",
    "            latin_response = section_content[response_idx+1].split(': ')[-1]\n",
    "            ET.SubElement(reading, \"response\").text = response\n",
    "            ET.SubElement(reading, \"latin_response\").text = latin_response\n",
    "            if section_content[response_idx+2].split(' ')[0] == 'Ou:':\n",
    "                ET.SubElement(reading, \"alt-response\").text = section_content[response_idx+2]\n",
    "                verses = section_content[response_idx+3::3]\n",
    "            else:\n",
    "                verses = section_content[response_idx+2::3]\n",
    "            for j, verse in enumerate(verses):\n",
    "                ET.SubElement(reading, f\"verse-{j+1}\").text = verse\n",
    "\n",
    "    # Convert the ElementTree to a string\n",
    "    xml_string = ET.tostring(root, 'utf-8')\n",
    "\n",
    "    # Use minidom to prettify the XML\n",
    "    dom = xml.dom.minidom.parseString(xml_string)\n",
    "    pretty_xml_as_string = dom.toprettyxml(indent=\"\\t\")\n",
    "\n",
    "    output_directory = f\"../_xml_data/{mass_metadata['season']}/sem-{mass_metadata['week']}\"\n",
    "    if not os.path.exists(output_directory):\n",
    "        os.makedirs(output_directory)\n",
    "\n",
    "    output_file_path = f\"{output_directory}/{filename}.xml\"\n",
    "\n",
    "    # Write the pretty-printed XML to a file\n",
    "    with open(output_file_path, \"w\", encoding=\"UTF-8\") as file:\n",
    "        file.write(pretty_xml_as_string)"
   ]
  },
  {
   "cell_type": "markdown",
   "metadata": {},
   "source": [
    "### Possible sections to be found inside the raw data"
   ]
  },
  {
   "cell_type": "code",
   "execution_count": 58,
   "metadata": {},
   "outputs": [],
   "source": [
    "possible_sections = [\n",
    "    \"ANTÍFONA DE ENTRADA\",\n",
    "    \"ORAÇÃO COLECTA\",\n",
    "    \"ANTÍFONA DA COMUNHÃO\",\n",
    "    \"ORAÇÃO SOBRE AS OBLATAS\",\n",
    "    \"ORAÇÃO DEPOIS DA COMUNHÃO\",\n",
    "    \"LEITURA I \",\n",
    "    \"SALMO RESPONSORIAL\",\n",
    "    \"ALELUIA\",\n",
    "    \"LEITURA II\",\n",
    "    \"EVANGELHO\"\n",
    "]"
   ]
  },
  {
   "cell_type": "markdown",
   "metadata": {},
   "source": [
    "## Script for Processing Specific Files"
   ]
  },
  {
   "cell_type": "markdown",
   "metadata": {},
   "source": [
    "### Weeks 1-3"
   ]
  },
  {
   "cell_type": "code",
   "execution_count": 59,
   "metadata": {},
   "outputs": [],
   "source": [
    "season = \"advent\"\n",
    "\n",
    "file_paths = [\n",
    "    \"../_old/AdvSem01.htm\",\n",
    "    \"../_old/AdvSem02.htm\",\n",
    "    \"../_old/AdvSem03.htm\",\n",
    "]\n",
    "\n",
    "weekdays = [\n",
    "    \"sunday-A\", \n",
    "    \"sunday-B\", \n",
    "    \"sunday-C\", \n",
    "    \"monday\", \n",
    "    \"tuesday\", \n",
    "    \"wednesday\", \n",
    "    \"thursday\", \n",
    "    \"friday\", \n",
    "    \"saturday\"\n",
    "]\n",
    "\n",
    "for i, file_path in enumerate(file_paths):\n",
    "    masses_raw_text = extract_sections(file_path)\n",
    "\n",
    "    for i, key in enumerate(list(masses_raw_text.keys())[1:]):\n",
    "        mass_by_section = get_mass_by_sections(masses_raw_text[key], possible_sections)\n",
    "        sections = list(mass_by_section.keys())\n",
    "\n",
    "        keywords = [\"EVANGELHO\", \"LEITURA\", \"ALELUIA\", \"SALMO\"]\n",
    "        reading_idxs = [i for i, element in enumerate(sections) if any(word in element for word in keywords)]\n",
    "\n",
    "        mass_metadata = {\n",
    "            \"season\": season,\n",
    "            \"week\": file_path[-6:-4],\n",
    "            \"weekday\": weekdays[i],\n",
    "        }\n",
    "\n",
    "        create_xml_mass_readings(mass_metadata, reading_idxs, mass_by_section, weekdays[i])"
   ]
  },
  {
   "cell_type": "markdown",
   "metadata": {},
   "source": [
    "### Week 4 (Sundays)"
   ]
  },
  {
   "cell_type": "code",
   "execution_count": 60,
   "metadata": {},
   "outputs": [],
   "source": [
    "season = \"advent\"\n",
    "\n",
    "file_paths = [\n",
    "    \"../_old/AdvSem04.htm\",\n",
    "]\n",
    "\n",
    "weekdays = [\n",
    "    \"sunday-A\", \n",
    "    \"sunday-B\", \n",
    "    \"sunday-C\",\n",
    "]\n",
    "\n",
    "for i, file_path in enumerate(file_paths):\n",
    "    masses_raw_text = extract_sections(file_path)\n",
    "\n",
    "    for i, key in enumerate(list(masses_raw_text.keys())[1:4]):\n",
    "        mass_by_section = get_mass_by_sections(masses_raw_text[key], possible_sections)\n",
    "        sections = list(mass_by_section.keys())\n",
    "\n",
    "        keywords = [\"EVANGELHO\", \"LEITURA\", \"ALELUIA\", \"SALMO\"]\n",
    "        reading_idxs = [i for i, element in enumerate(sections) if any(word in element for word in keywords)]\n",
    "\n",
    "        mass_metadata = {\n",
    "            \"season\": season,\n",
    "            \"week\": file_path[-6:-4],\n",
    "            \"weekday\": weekdays[i],\n",
    "        }\n",
    "\n",
    "        create_xml_mass_readings(mass_metadata, reading_idxs, mass_by_section, weekdays[i])"
   ]
  },
  {
   "cell_type": "markdown",
   "metadata": {},
   "source": [
    "### Week 4 (Specific days)"
   ]
  },
  {
   "cell_type": "code",
   "execution_count": 61,
   "metadata": {},
   "outputs": [],
   "source": [
    "season = \"advent\"\n",
    "month = \"december\"\n",
    "\n",
    "file_paths = [\n",
    "    \"../_old/AdvSem04.htm\",\n",
    "]\n",
    "\n",
    "days = [str(i) for i in range(17, 25)]\n",
    "\n",
    "for i, file_path in enumerate(file_paths):\n",
    "    masses_raw_text = extract_sections(file_path)\n",
    "\n",
    "    for i, key in enumerate(list(masses_raw_text.keys())[4:]):\n",
    "        mass_by_section = get_mass_by_sections(masses_raw_text[key], possible_sections)\n",
    "        sections = list(mass_by_section.keys())\n",
    "\n",
    "        keywords = [\"EVANGELHO\", \"LEITURA\", \"ALELUIA\", \"SALMO\"]\n",
    "        reading_idxs = [i for i, element in enumerate(sections) if any(word in element for word in keywords)]\n",
    "\n",
    "        mass_metadata = {\n",
    "            \"season\": season,\n",
    "            \"week\": file_path[-6:-4],\n",
    "            \"day\": days[i],\n",
    "            \"month\": month,\n",
    "        }\n",
    "\n",
    "        create_xml_mass_readings(mass_metadata, reading_idxs, mass_by_section, f\"{month}-{days[i]}\")"
   ]
  }
 ],
 "metadata": {
  "kernelspec": {
   "display_name": "Python 3",
   "language": "python",
   "name": "python3"
  },
  "language_info": {
   "codemirror_mode": {
    "name": "ipython",
    "version": 3
   },
   "file_extension": ".py",
   "mimetype": "text/x-python",
   "name": "python",
   "nbconvert_exporter": "python",
   "pygments_lexer": "ipython3",
   "version": "3.8.10"
  }
 },
 "nbformat": 4,
 "nbformat_minor": 2
}
